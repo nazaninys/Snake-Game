{
 "cells": [
  {
   "cell_type": "markdown",
   "metadata": {},
   "source": [
    "# Computer Assignemet 1 - Search Algorithms\n",
    "## Nazanin Yousefian\n",
    "### 810197610"
   ]
  },
  {
   "cell_type": "markdown",
   "metadata": {},
   "source": [
    "## Abstract\n",
    "### In this project, we want to solve a problem using different search strategies: Uninformed search and informed search. we implement BFS and IDS for uninformed search. A* and weighted A* are two informed search strategies we tend to implement. All these algorithms are optimal wich means they find the path with lowest cost but they differ in time complexity and mamory consumption. "
   ]
  },
  {
   "cell_type": "markdown",
   "metadata": {},
   "source": [
    "## Introduction\n",
    "### We all know the popular *Snake* game. We have a map and a snake of length 1. We have to eat all the apples in the map. In this project we find to find the shortest path to reach goal (eating all apples) with different strategies. We should keep track of each state which is created after snake moves. In limited time for each test case and algorithm, the solution must be printed."
   ]
  },
  {
   "cell_type": "markdown",
   "metadata": {},
   "source": [
    "### project Description\n",
    "we need to have the information of each state. Based on the map, the coordinates of remained apples and the length of our snake and coordinates of each point of its body we should distinguish states. we define a class named *Node* to achieve this goal. *snake* is a list which starts with head of snake and ends with its tail. *move* is a character showing what move of snake led it to this state. *par* is parent node of this node. *num* is the number of apples remained(apples with score of 2 are counted twice). *food1* is a list including coordinates of each apple with 1 score and it is sorted. *food2* is a list like *food1* for 2-score apples. *State* is a tuple and shows properties of our  map. It itsel has 3 tuples inside it: *snake*, *food1*, and *food2*. Knowing state of each node prevents us from checking duplicate states and results in faster solution. \n",
    "fields *cost* and *h* are g(n) and h(n) of each node wich are used in A* algorithm.\n",
    "Our first state is the beginning of the game having a snake of length one and all apples. For recognizing it, a field *first* is added and its value for first state is *'first'*. For all other nodes its an empty string. The goal state is reaches when all apples are eaten and the game finishes. \n"
   ]
  },
  {
   "cell_type": "code",
   "execution_count": 597,
   "metadata": {},
   "outputs": [],
   "source": [
    "import queue\n",
    "import heapq\n",
    "import time\n",
    "from collections import defaultdict\n",
    "class Node:\n",
    "    def __init__(self, snake, move, parent, num, food1, food2, first = ''):\n",
    "        self.snake = snake\n",
    "        self.move = move\n",
    "        self.par = parent\n",
    "        self.first = first\n",
    "        self.num = num\n",
    "        self.food1 = food1\n",
    "        self.food2 = food2\n",
    "        self.state = None\n",
    "        self.cost = 0\n",
    "        self.h = 0\n",
    "    def __lt__(self, other):\n",
    "        return self.cost < other.cost\n",
    "\n",
    "    def set_cost(self, cost, h):\n",
    "        self.cost = cost\n",
    "        self.h = h\n"
   ]
  },
  {
   "cell_type": "code",
   "execution_count": 598,
   "metadata": {},
   "outputs": [],
   "source": [
    "def test_goal(num):\n",
    "    return num == 0"
   ]
  },
  {
   "cell_type": "code",
   "execution_count": 599,
   "metadata": {},
   "outputs": [],
   "source": [
    "def get_input(filename, snake, food1, food2):\n",
    "    file1 = open(filename, 'r')\n",
    "    Lines = file1.readlines()\n",
    "    [y, x] = [int(x) - 1 for x in Lines[0].split(',')]\n",
    "    head = [int(x) for x in Lines[1].split(',')]\n",
    "    snake.append([head[0], head[1]])\n",
    "    num = int(Lines[2])\n",
    "    size = 0\n",
    "    for i in range(num):\n",
    "        temp = [int(x) for x in Lines[i + 3].split(',')]\n",
    "        if temp[2] == 1:\n",
    "            food1.append((temp[0], temp[1]))\n",
    "            size += 1\n",
    "        else:\n",
    "            food2.append((temp[0], temp[1]))\n",
    "            size += 2\n",
    "    return size, y, x"
   ]
  },
  {
   "cell_type": "code",
   "execution_count": 600,
   "metadata": {},
   "outputs": [],
   "source": [
    "def initial_state(snake, size, food1, food2):\n",
    "    node = Node(snake, '', [], size, food1, food2, 'first')\n",
    "    node.state = (tuple(map(tuple, snake)), tuple(food1), tuple(food2))\n",
    "    return node"
   ]
  },
  {
   "cell_type": "markdown",
   "metadata": {},
   "source": [
    "The function below checks if there is an apple in coornidates of snake's head. It returns a tuple(a boolean and number of remained apples)."
   ]
  },
  {
   "cell_type": "code",
   "execution_count": 601,
   "metadata": {},
   "outputs": [],
   "source": [
    "def eat_apple(head, food1,food2, num):\n",
    "    eat = False\n",
    "    if (head[0], head[1]) in food1:\n",
    "        food1.remove((head[0], head[1]))\n",
    "        num -= 1\n",
    "        eat = True\n",
    "    elif (head[0], head[1]) in food2:\n",
    "        food2.remove((head[0], head[1]))\n",
    "        food1.append((head[0], head[1]))\n",
    "        food1.sort()\n",
    "        eat = True\n",
    "        num -= 1\n",
    "    return eat, num"
   ]
  },
  {
   "cell_type": "markdown",
   "metadata": {},
   "source": [
    "*find_move* indicates all possible moves for the snake from this state. if the length of snake is 1, it can go to any direction. Otherwise, it calls another function named *adjacent*. \n",
    "In *adjacent* function for every move(up, down, left, and right) we check two conditions:\n",
    "First, the second pat of the snake's body should not be in the direction that snake wants to move. Second, The tial of the snake should not be in the direction that snake wants to move. \n",
    "All the possible moves of stored in a set. "
   ]
  },
  {
   "cell_type": "code",
   "execution_count": 602,
   "metadata": {},
   "outputs": [],
   "source": [
    "def find_move(snake, move, y, x):\n",
    "    if len(snake) == 1:\n",
    "        move.update('r', 'l', 'u', 'd')\n",
    "    else:\n",
    "        adjacent(snake, y, x, move)"
   ]
  },
  {
   "cell_type": "code",
   "execution_count": 603,
   "metadata": {},
   "outputs": [],
   "source": [
    "def adjacent(snake, y, x, move):\n",
    "\n",
    "    #up\n",
    "    if snake[0][0] == 0:\n",
    "        if not ((snake[1][0] == y) and (snake[0][1] == snake[1][1])):\n",
    "            move.add('u')\n",
    "\n",
    "    else:\n",
    "        if (not ((snake[0][0] - snake[-2][0] == 1) and (snake[0][1] == snake[-2][1]))) and (not((snake[0][0] - snake[1][0] == 1) and (snake[0][1] == snake[1][1]))):\n",
    "            move.add('u')\n",
    "\n",
    "    #down\n",
    "    if snake[0][0] == y:\n",
    "        if not ((snake[1][0] == 0) and (snake[0][1] == snake[1][1])):\n",
    "            move.add('d')\n",
    "\n",
    "    else:\n",
    "        if (not ((snake[0][0] - snake[-2][0] == -1) and (snake[0][1] == snake[-2][1]))) and (not((snake[0][0] - snake[1][0] == -1) and (snake[0][1] == snake[1][1]))):\n",
    "            move.add('d')\n",
    "\n",
    "    #right\n",
    "    if snake[0][1] == x:\n",
    "        if not ((snake[1][1] == 0) and (snake[0][0] == snake[1][0])):\n",
    "            move.add('r')\n",
    "\n",
    "    else:\n",
    "        if (not ((snake[0][1] - snake[-2][1] == -1) and (snake[0][0] == snake[-2][0]))) and (not((snake[0][1] - snake[1][1] == -1) and (snake[0][0] == snake[1][0]))):\n",
    "            move.add('r')\n",
    "    #left\n",
    "    if snake[0][1] == 0:\n",
    "        if not ((snake[1][1] == x) and (snake[0][0] == snake[1][0])):\n",
    "            move.add('l')\n",
    "\n",
    "    else:\n",
    "        if (not ((snake[0][1] - snake[-2][1] == 1) and (snake[0][0] == snake[-2][0]))) and (not((snake[0][1] - snake[1][1] == 1) and (snake[0][0] == snake[1][0]))):\n",
    "            move.add('l')"
   ]
  },
  {
   "cell_type": "markdown",
   "metadata": {},
   "source": [
    "After we detect in which directions the snake can move, we have to create the new snake. If it ate an apple we just need to add a new part to its body which is its new head. Its coordinates are calculated based on the direction. If the snake did not eat an apple, we have to add a new head, shift all parts of its body(for example, the old head now becomes second part of its body) and delete its tail. "
   ]
  },
  {
   "cell_type": "code",
   "execution_count": 604,
   "metadata": {},
   "outputs": [],
   "source": [
    "def make_new_snake(move, node, eat, y, x):\n",
    "    if move == 'u':\n",
    "        return up_move(node, eat, y)\n",
    "    if move == 'd':\n",
    "        return down_move(node, eat, y)\n",
    "    if move == 'l':\n",
    "        return left_move(node, eat, x)\n",
    "    if move == 'r':\n",
    "        return right_move(node, eat, x)"
   ]
  },
  {
   "cell_type": "code",
   "execution_count": 605,
   "metadata": {},
   "outputs": [],
   "source": [
    "def up_move(node, eat, y):\n",
    "    snake = []\n",
    "    head = node.snake[0]\n",
    "    if head[0] == 0:\n",
    "        snake.append([y, head[1]])\n",
    "    else:\n",
    "        snake.append([head[0] - 1, head[1]])\n",
    "    for i in range(len(node.snake) - 1):\n",
    "        snake.append(node.snake[i])\n",
    "    if eat:\n",
    "        snake.append(node.snake[-1])\n",
    "    return snake\n",
    "def down_move(node, eat, y):\n",
    "    snake = []\n",
    "    head = node.snake[0]\n",
    "    if head[0] == y:\n",
    "        snake.append([0, head[1]])\n",
    "    else:\n",
    "        snake.append([head[0] + 1, head[1]])\n",
    "    for i in range(len(node.snake) - 1):\n",
    "        snake.append(node.snake[i])\n",
    "    if eat:\n",
    "        snake.append(node.snake[-1])\n",
    "    return snake\n",
    "\n",
    "def left_move(node, eat, x):\n",
    "    snake = []\n",
    "    head = node.snake[0]\n",
    "    if head[1] == 0:\n",
    "        snake.append([head[0], x])\n",
    "    else:\n",
    "        snake.append([head[0], head[1] - 1])\n",
    "    for i in range(len(node.snake) - 1):\n",
    "        snake.append(node.snake[i])\n",
    "    if eat:\n",
    "        snake.append(node.snake[-1])\n",
    "    return snake\n",
    "\n",
    "def right_move(node, eat, x):\n",
    "    snake = []\n",
    "    head = node.snake[0]\n",
    "    if head[1] == x:\n",
    "        snake.append([head[0], 0])\n",
    "    else:\n",
    "        snake.append([head[0], head[1] + 1])\n",
    "    for i in range(len(node.snake) - 1):\n",
    "        snake.append(node.snake[i])\n",
    "    if eat:\n",
    "        snake.append(node.snake[-1])\n",
    "    return snake"
   ]
  },
  {
   "cell_type": "markdown",
   "metadata": {},
   "source": [
    "When goal state is reached, the search will stop and we print the solution. The path we need to travel, length of it, total number of states and number of unique states are shown as result. "
   ]
  },
  {
   "cell_type": "code",
   "execution_count": 606,
   "metadata": {},
   "outputs": [],
   "source": [
    "def print_result(node):\n",
    "    path = ''\n",
    "    count = 0\n",
    "    while node.first != 'first':\n",
    "        path = node.move + ',' + path\n",
    "        node = node.par\n",
    "        count += 1\n",
    "    print(path[:-1])\n",
    "    print(count)"
   ]
  },
  {
   "cell_type": "markdown",
   "metadata": {},
   "source": [
    "**Now we explain each Search strategy**"
   ]
  },
  {
   "cell_type": "markdown",
   "metadata": {},
   "source": [
    "**BFS**\n",
    "\n",
    "Starting with the initial node, we add it to queue(which is our frontier). In each step, we pop the first element of queue. First we check if we can eat an apple. Then we check if we are in the goal state. For each move that this node(parent node) can do, we define a child node with new state different from parent and other children(because the direction of action is different, so the snake will be different). We have an explored set named *exp* which includes all the states we have visited or are in the queue. If the state of child node is not visited, we add it to the queue and add its state to exp. Below is the pseudo code of algorithm:\n"
   ]
  },
  {
   "cell_type": "markdown",
   "metadata": {},
   "source": [
    "function BREADTH-FIRST-SEARCH(problem) returns a solution, or failure\n",
    "node ←a node with STATE = problem.INITIAL-STATE, PATH-COST = 0\n",
    "if problem.GOAL-TEST(node.STATE) then return SOLUTION(node)\n",
    "frontier ←a FIFO queue with node as the only element\n",
    "explored ←an empty set\n",
    "loop do\n",
    "if EMPTY?( frontier) then return failure\n",
    "node←POP( frontier ) /* chooses the shallowest node in frontier */\n",
    "add node.STATE to explored\n",
    "for each action in problem.ACTIONS(node.STATE) do\n",
    "child ←CHILD-NODE(problem, node, action)\n",
    "if child .STATE is not in explored or frontier then\n",
    "if problem.GOAL-TEST(child .STATE) then return SOLUTION(child )\n",
    "frontier ←INSERT(child , frontier )"
   ]
  },
  {
   "cell_type": "code",
   "execution_count": 607,
   "metadata": {},
   "outputs": [],
   "source": [
    "def BFS(node, size, y, x):\n",
    "    exp = set()\n",
    "    q = queue.Queue()\n",
    "    q.put(node)\n",
    "    head = node.snake[0]\n",
    "    exp.add(node.state)\n",
    "    all_states = 1\n",
    "    while True:\n",
    "        if q.empty():\n",
    "            print('There is no way to eat all!')\n",
    "            return\n",
    "        node = q.get()\n",
    "        num = node.num\n",
    "        food1 = node.food1.copy()\n",
    "        food1 = list(food1)\n",
    "        food2 = node.food2.copy()\n",
    "        food2 = list(food2)\n",
    "        food1_t = tuple(food1)\n",
    "        food2_t = tuple(food2)\n",
    "        head = node.snake[0]\n",
    "        [eat, num] = eat_apple(head, food1, food2, num)\n",
    "        if test_goal(num):\n",
    "            print_result(node)\n",
    "            print('All of visited states: ', all_states)\n",
    "            print('Unique states: ', len(exp))\n",
    "            break\n",
    "        move = set()\n",
    "        find_move(node.snake, move, y, x)\n",
    "        for i in move:\n",
    "            all_states += 1\n",
    "            snake = make_new_snake(i, node, eat, y, x)\n",
    "            state = (tuple(map(tuple, snake)), food1_t, food2_t)\n",
    "            if state not in exp:\n",
    "                new_node = Node(snake, i, node, num, food1, food2)\n",
    "                new_node.state = state\n",
    "                q.put(new_node)\n",
    "                exp.add(state)"
   ]
  },
  {
   "cell_type": "markdown",
   "metadata": {},
   "source": [
    "**IDS**\n",
    "\n",
    "IDS algorithm is combination of BFS and DFS algorithm. It is optimal like BFS and has DFS memory consumption which is less than BFS.\n",
    "It first call dfs search of depth 1. Then at each step it increases the depth until it finds goal state. \n",
    "In *dfs* we define a dictionary named opt for two purposes. First, we can save visited states. Second, if we have a state that we have already visited but now we reached to it with a lower path cost, we should replace it with the new one to get the optimal answer. The pseudo code is shown below:"
   ]
  },
  {
   "cell_type": "markdown",
   "metadata": {},
   "source": [
    "function RECURSIVE-DLS(node, problem) returns a solution, or failure/cutoff\n",
    "if problem.GOAL-TEST(node.STATE) then return SOLUTION(node)\n",
    "else if limit = 0 then return False\n",
    "else\n",
    "for each action in problem.ACTIONS(node.STATE) do\n",
    "child ←CHILD-NODE(problem, node, action)\n",
    "result ←RECURSIVE-DLS(child , problem, limit − 1)\n"
   ]
  },
  {
   "cell_type": "markdown",
   "metadata": {},
   "source": [
    "function ITERATIVE-DEEPENING-SEARCH(problem) returns a solution, or failure\n",
    "for depth = 0 to∞ do\n",
    "result ←RECURSIVE-DLS(problem, depth)\n",
    "if result != cutoff then return result"
   ]
  },
  {
   "cell_type": "code",
   "execution_count": 608,
   "metadata": {},
   "outputs": [],
   "source": [
    "def IDS(node, y, x):\n",
    "    ans = False\n",
    "    depth = 0\n",
    "    count = 0\n",
    "    length = 0\n",
    "    while not ans:\n",
    "        opt = dict()\n",
    "        opt[node.state] = 0\n",
    "        count += 1\n",
    "        [ans, new_count] = dfs(node, depth, 0, y, x, opt, count)\n",
    "        count += new_count\n",
    "        depth += 1\n",
    "        length = len(opt)\n",
    "    print('All of visited state: ', count)\n",
    "    print('Unique states: ', length)"
   ]
  },
  {
   "cell_type": "code",
   "execution_count": 609,
   "metadata": {},
   "outputs": [],
   "source": [
    "def dfs(node, max_depth, depth, y, x, opt, count):\n",
    "    if max_depth <= 0:\n",
    "        return False, count\n",
    "    head = node.snake[0]\n",
    "    num = node.num\n",
    "    food1 = node.food1.copy()\n",
    "    food1 = list(food1)\n",
    "    food2 = node.food2.copy()\n",
    "    food2 = list(food2)\n",
    "    food1_t = tuple(food1)\n",
    "    food2_t = tuple(food2)\n",
    "    [eat, num] = eat_apple(head, food1, food2, num)\n",
    "    if test_goal(num):\n",
    "        print_result(node)\n",
    "        return [True, count]\n",
    "    move = set()\n",
    "    find_move(node.snake, move, y, x)\n",
    "    for i in move:\n",
    "        snake = make_new_snake(i, node, eat, y, x)\n",
    "        state = (tuple(map(tuple, snake)), food1_t, food2_t)\n",
    "        if (state not in opt) or (state in opt and opt[state] > depth):\n",
    "            opt[state] = depth\n",
    "            new_node = Node(snake, i, node, num, food1, food2)\n",
    "            new_node.state = state\n",
    "            [ans, new_count] = dfs(new_node, max_depth - 1, depth + 1, y, x, opt, count + 1)\n",
    "            if ans:\n",
    "                return True, count\n",
    "   \n",
    "    \n",
    "    return False, count"
   ]
  },
  {
   "cell_type": "markdown",
   "metadata": {},
   "source": [
    "**A***\n",
    "\n",
    "In this algorithm, we need a heuristic fuction to estimate cost from this state to goal for each node. We implement this algorithm with two differnet heuristics. The first one finds the nearest apple to head of the snake and calculates their *Manhatan* distance. This heuristic is consistent because the actual path that the snake has to traverse is equal or more than the distance we estimate. so for each node h(node2) + path_cost(node1 to node2) >= h(node1) is true. As this heuristic is consistent, we can find the optimal answer with graph search.\n",
    "The other heuristic could be similar to the first one. Instead of calculating distance to closest apple, we calculate the distance to the furthest apple. This heuristic is admissible because for each node the minimal cost to get to the goal state is to eat the last apple(assume we have eaten all other apples). So this heuristic is always less than or equal to actual cost. BEcause this heuristic is only admissible and not consistent and we use graph search, we cannot find an optimal path.\n",
    "For implementing *A star* algorithm, we define a heap called *frontier* to store nodes that can be expanded. We define an explored set to avoid visiting duplicate states. We have a dictionary called *opt*. its keys are states which are states of nodes in *frontier* and its value is the f(node) = h(node) + g(node).\n",
    "Each step we pop from the heap(which gives us the node with minimum f(node)) and we check if the snake can eat apple. Then we determine new states based on its move. For the new state that we get, we check if it is in explored set. If not, we check if this state is a key in our dictionary. If it is, it means it already exists in the *frontier*. But if the node in the *frontier* has the path cost more than the new state we found, it should be replace.\n",
    "At the end if none of the conditions above is true, we add this node to *frontier*.\n",
    "Below the pseudo code is shown.\n"
   ]
  },
  {
   "cell_type": "markdown",
   "metadata": {},
   "source": [
    "make a frontier list containing only the starting node\n",
    "   make an empty explored list\n",
    "   while (the goal state has not been reached):\n",
    "       consider the node with the lowest f score in the frontier list\n",
    "       if (this node is our goal state) :\n",
    "           we are finished \n",
    "       if not:\n",
    "           put the current node in the explored list and look at all of its neighbors\n",
    "           for (each neighbor of the current node):\n",
    "               if (neighbor is in frontier list and has less f) :\n",
    "                   replace the node with lower f           \n",
    "               else if this neighbor is not in explored list:\n",
    "                   add it to the frontier list and set its f"
   ]
  },
  {
   "cell_type": "code",
   "execution_count": 610,
   "metadata": {},
   "outputs": [],
   "source": [
    "def heuristic(head, food1, food2, y, x, alpha):\n",
    "    h = 0\n",
    "    if len(food1) != 0 and len(food2) != 0:\n",
    "        closest = min(min(food1), min(food2))\n",
    "    else:\n",
    "        if len(food1) != 0:\n",
    "            closest = min(food1)\n",
    "        else:\n",
    "            closest = min(food2)\n",
    "#heuristic 2- admissible\n",
    "#     if len(food1) != 0 and len(food2) != 0:\n",
    "#         closest = max(max(food1), max(food2))\n",
    "#     else:\n",
    "#         if len(food1) != 0:\n",
    "#             closest = max(food1)\n",
    "#         else:\n",
    "#             closest = max(food2)\n",
    "\n",
    "    dify = abs(head[0] - closest[0])\n",
    "    if dify > (y // 2):\n",
    "        dify = y - dify\n",
    "    difx = abs(head[1] - closest[1])\n",
    "    if difx > (x // 2):\n",
    "        difx = x - difx\n",
    "    h += dify + difx\n",
    "    return h * alpha"
   ]
  },
  {
   "cell_type": "code",
   "execution_count": 611,
   "metadata": {},
   "outputs": [],
   "source": [
    "def a_star(node, size, y, x, alpha):\n",
    "    exp = set()\n",
    "    opt = dict()\n",
    "    frontier = []\n",
    "    heapq.heappush(frontier, node)\n",
    "    opt[node.state] = node.cost\n",
    "    head = node.snake[0]\n",
    "    count = 1\n",
    "    while True:\n",
    "        node = heapq.heappop(frontier)\n",
    "        exp.add(node.state)\n",
    "        del opt[node.state]\n",
    "        num = node.num\n",
    "        food1 = node.food1.copy()\n",
    "        food1 = list(food1)\n",
    "        food2 = node.food2.copy()\n",
    "        food2 = list(food2)\n",
    "        food1_t = tuple(food1)\n",
    "        food2_t = tuple(food2)\n",
    "        head = node.snake[0]\n",
    "        [eat, num] = eat_apple(head, food1, food2, num)\n",
    "        if test_goal(num):\n",
    "            print_result(node)\n",
    "            print('All of visited states: ', count)\n",
    "            print('Unique states: ', len(exp) + len(opt))\n",
    "            break\n",
    "        move = set()\n",
    "        find_move(node.snake, move, y, x)\n",
    "        for i in move:\n",
    "            count += 1\n",
    "            snake = make_new_snake(i, node, eat, y, x)\n",
    "            state = (tuple(map(tuple, snake)), food1_t, food2_t)\n",
    "            if state not in exp:\n",
    "                h = heuristic(snake[0], food1, food2, y, x, alpha)\n",
    "                f = h + node.cost - node.h + 1\n",
    "                if state in opt and opt[state] > f:\n",
    "                    opt[state] = f\n",
    "                    length = len(frontier)\n",
    "                    for j in range(length):\n",
    "                        if frontier[j].state == state:\n",
    "                            frontier[j].cost = f\n",
    "                            frontier[j].move = i\n",
    "                            frontier[j].par = node\n",
    "                            break\n",
    "                if state not in opt:\n",
    "                    new_node = Node(snake, i, node, num, food1, food2)\n",
    "                    new_node.state = state\n",
    "                    new_node.set_cost(f, h)\n",
    "                    heapq.heappush(frontier, new_node)\n",
    "                    opt[state] = f"
   ]
  },
  {
   "cell_type": "code",
   "execution_count": 612,
   "metadata": {},
   "outputs": [
    {
     "name": "stdout",
     "output_type": "stream",
     "text": [
      "test3.txt\n"
     ]
    }
   ],
   "source": [
    "filename = input()\n",
    "snake = []\n",
    "food1 = []\n",
    "food2 = []\n",
    "[size, y, x] = get_input(filename, snake, food1, food2)\n",
    "food1.sort()\n",
    "food2.sort()\n",
    "node = initial_state(snake, size, food1, food2)"
   ]
  },
  {
   "cell_type": "code",
   "execution_count": 613,
   "metadata": {},
   "outputs": [
    {
     "name": "stdout",
     "output_type": "stream",
     "text": [
      "u,r,d,d,d,r,d,r,r,d,d,r,r,r,u,r,r,d,l,l,u,u,l,l,l\n",
      "25\n",
      "All of visited states:  652320\n",
      "Unique states:  287438\n",
      "time 14.580391 s\n"
     ]
    }
   ],
   "source": [
    "tic = time.time()\n",
    "BFS(node, size, y, x)\n",
    "toc = time.time()\n",
    "print('time %f s' % ((toc - tic)))"
   ]
  },
  {
   "cell_type": "code",
   "execution_count": 614,
   "metadata": {},
   "outputs": [
    {
     "name": "stdout",
     "output_type": "stream",
     "text": [
      "u,r,d,d,d,r,d,r,r,d,d,r,r,r,u,r,r,d,l,l,u,u,l,l,l\n",
      "25\n",
      "All of visited state:  268435454\n",
      "Unique states:  277461\n",
      "time 63.684227 s\n"
     ]
    }
   ],
   "source": [
    "tic = time.time()\n",
    "IDS(node, y, x)\n",
    "toc = time.time()\n",
    "print('time %f s' % ((toc - tic)))"
   ]
  },
  {
   "cell_type": "code",
   "execution_count": 615,
   "metadata": {},
   "outputs": [
    {
     "name": "stdout",
     "output_type": "stream",
     "text": [
      "r,u,d,d,d,r,r,d,r,r,u,l,d,d,r,d,r,r,u,l,d,r,u,r,r\n",
      "25\n",
      "All of visited states:  172977\n",
      "Unique states:  84548\n",
      "time 4.357950 s\n"
     ]
    }
   ],
   "source": [
    "tic = time.time()\n",
    "h = heuristic(snake[0], food1, food2, y, x, 1)\n",
    "node.set_cost(0, h)\n",
    "a_star(node, size, y, x, 1)\n",
    "toc = time.time()\n",
    "print('time %f s' % ((toc - tic)))"
   ]
  },
  {
   "cell_type": "code",
   "execution_count": 616,
   "metadata": {},
   "outputs": [
    {
     "name": "stdout",
     "output_type": "stream",
     "text": [
      "r,u,r,d,d,d,r,r,d,r,d,l,u,r,r,r,r,r,d,l,l,d,l,d,r,u\n",
      "26\n",
      "All of visited states:  100357\n",
      "Unique states:  49585\n",
      "time 2.916221 s\n"
     ]
    }
   ],
   "source": [
    "tic = time.time()\n",
    "h = heuristic(snake[0], food1, food2, y, x, 2)\n",
    "node.set_cost(0, h)\n",
    "a_star(node, size, y, x, 2)\n",
    "toc = time.time()\n",
    "print('time %f s' % ((toc - tic)))"
   ]
  },
  {
   "cell_type": "code",
   "execution_count": 617,
   "metadata": {},
   "outputs": [
    {
     "name": "stdout",
     "output_type": "stream",
     "text": [
      "r,u,r,d,d,d,d,r,r,u,l,d,r,d,r,r,r,d,r,u,r,d,l,d,l,u\n",
      "26\n",
      "All of visited states:  19173\n",
      "Unique states:  10314\n",
      "time 0.537904 s\n"
     ]
    }
   ],
   "source": [
    "tic = time.time()\n",
    "h = heuristic(snake[0], food1, food2, y, x, 5)\n",
    "node.set_cost(0, h)\n",
    "a_star(node, size, y, x, 5)\n",
    "toc = time.time()\n",
    "print('time %f s' % ((toc - tic)))"
   ]
  },
  {
   "cell_type": "markdown",
   "metadata": {},
   "source": [
    "**Results of Test 1**\n",
    "\n",
    "|             |Distance  |Path                     |Number of total States           |Number of Unique States|Time|\n",
    "|-------------|----------|-------------------------|-------------------------------- |-----------------------|----|\n",
    "|BFS          |12        |d,l,d,d,r,r,r,d,r,d,d,r  |13504                            |6435                   |0.29|\n",
    "|IDS          |12        |d,l,d,d,r,r,r,d,r,d,d,r  |262142                           |6140                   |0.86|\n",
    "|A star(1)    |12        |d,l,r,d,l,u,u,u,l,l,u,l  |6396                             | 3676                  |0.14|\n",
    "|A star(2)    |12        |l,d,u,l,u,u,l,l,l,u,u,l  |5070                             |2987                   |0.22    |\n",
    "|W A star(2)  |13        |d,l,u,l,u,r,d,d,d,d,r,r,r|3308                             |1874                   |0.07|\n",
    "|W A star(5)  |13        |d,l,u,r,d,l,d,d,r,r,r,d,r|545                              |296                    |0.01|"
   ]
  },
  {
   "cell_type": "markdown",
   "metadata": {},
   "source": [
    "**Results of Test 2**\n",
    "\n",
    "|             |Distance  |Path                                         |\n",
    "|-------------|----------|---------------------------------------------|\n",
    "|BFS          |15        |u,r,d,l,l,u,u,u,u,l,u,l,l,l,l                |\n",
    "|IDS          |15        |u,r,d,l,l,u,u,u,u,l,u,l,l,l,l                |\n",
    "|A star(1)    |15        |r,l,l,u,r,u,l,u,u,l,l,l,l,u,l                |\n",
    "|A star(2)    |15        |r,l,l,u,r,u,l,l,u,u,l,l,u,l,l                |                                 \n",
    "|W A star(2)  |17        |r,u,l,l,d,l,l,u,u,u,u,r,u,l,l,l,l            |\n",
    "|W A star(5)  |23        |l,r,r,r,r,r,r,r,u,u,u,u,u,r,r,r,d,r,d,d,d,r,r|\n"
   ]
  },
  {
   "cell_type": "markdown",
   "metadata": {},
   "source": [
    "\n",
    "|             |Number of total States           |Number of Unique States|Time |\n",
    "|-------------|-------------------------------- |-----------------------|-----|\n",
    "|BFS          |151802                           |66057                  |3.14 |\n",
    "|IDS          |262142                           |57938                  |11.49|\n",
    "|A star(1)    |34404                            |18427                  |0.76 |\n",
    "|A star(2)    |39764                            |19651                  |1.07 |\n",
    "|W A star(2)  |80806                            |36901                  |2.37 |\n",
    "|W A star(5)  |111327                           |43167                  |2.92 |"
   ]
  },
  {
   "cell_type": "markdown",
   "metadata": {},
   "source": [
    "**Results of Test 3**\n",
    "\n",
    "|             |Distance  |Path                                                             |\n",
    "|-------------|----------|-----------------------------------------------------------------|\n",
    "|BFS          |25        |u,r,d,d,d,r,d,r,r,d,d,r,r,r,u,r,r,d,l,l,u,u,l,l,l                |\n",
    "|IDS          |25        |u,r,d,d,d,r,d,r,r,d,d,r,r,r,u,r,r,d,l,l,u,u,l,l,l                |\n",
    "|A star(1)    |25        |r,u,d,d,d,r,r,d,r,r,u,l,d,d,r,d,r,r,u,l,d,r,u,r,r                |\n",
    "|A star(2)    |25        |r,u,d,d,d,r,r,r,d,l,u,r,d,r,d,r,r,d,l,d,r,u,u,r,r                   |                          |W A star(2)  |26        |r,u,r,d,d,d,r,r,d,r,d,l,u,r,r,r,r,r,d,l,l,d,l,d,r,u              |\n",
    "|W A star(5)  |26        |r,u,r,d,d,d,d,r,r,u,l,d,r,d,r,r,r,d,r,u,r,d,l,d,l,u              |\n"
   ]
  },
  {
   "cell_type": "markdown",
   "metadata": {},
   "source": [
    "|             |Number of total States           |Number of Unique States|Time |\n",
    "|-------------|-------------------------------- |-----------------------|-----|\n",
    "|BFS          |652320                           |287438                  |14.53 |\n",
    "|IDS          |268435454                           |277461                  |67.76|\n",
    "|A star(1)    |172977                            |84548                  |4.57 |\n",
    "|A star(2)    |182790                            |87353                       | 5.23    |\n",
    "|W A star(2)  |100357                            |49585                  |3.12|\n",
    "|W A star(5)  |19173                           |10314                  |0.52 |"
   ]
  },
  {
   "cell_type": "markdown",
   "metadata": {},
   "source": [
    "Informed search strategies have better time complexities in comparison with uniformed search strategies. They visit fewer nodes but sometimes it is difficult to find a heuristic and it has more cost for us. BFS finds solution faster but it consumes more memory while IDS needs more time to find the solutin and has a better memory consumption.\n",
    "In A* if our heuristic is consistent, we can find the optimal solution with graph search. If the heuristic is admissible, the optimal solution cannot be found with graph search and we need to implement tree search which does not care about visited nodes. So, it is slower. \n",
    "Weighted A* is used to find a solution faster at the expense of optimality. It reduces the impact of g-cost and it begins with a much flatter search. if we choose α = 2 the result is shorter than α = 5 but it is slower. Our heuristic for each step is to calculate distance between head of the snake and the closest apple. When we use α = 5 this value may get closer to the actual cost(because in fact we have to eat all apples not one of them) and the closer our assumption to the actual cost, the faster our algorithm. According to this, α = 5 is faster than α = 2. α = 2 is closer to the optimal solution because our heuristic is changed less and it can be admissible in many cases. "
   ]
  },
  {
   "cell_type": "markdown",
   "metadata": {},
   "source": [
    "## Conclusion\n",
    "### Different search strategies can be used based on our resources. If we have limit in memory, IDS is a better option than BFS. When we want to find a solution and it is not so important to find the optimal one but we want to find it very fast, weighted A* can be used. The better our heuristic, the faster our A* algorithms will work. We have to find heuristics which are close to actual cost and are less than it. Sometimes finding these heurisristics have more cost for us."
   ]
  },
  {
   "cell_type": "markdown",
   "metadata": {},
   "source": [
    "## References\n",
    "1. *Russell, Stuart J. (2018). Artificial intelligence a modern approach. Norvig, Peter (4th ed.)*\n",
    "2. *https://brilliant.org/wiki/a-star-search/*\n"
   ]
  }
 ],
 "metadata": {
  "kernelspec": {
   "display_name": "Python 3",
   "language": "python",
   "name": "python3"
  },
  "language_info": {
   "codemirror_mode": {
    "name": "ipython",
    "version": 3
   },
   "file_extension": ".py",
   "mimetype": "text/x-python",
   "name": "python",
   "nbconvert_exporter": "python",
   "pygments_lexer": "ipython3",
   "version": "3.8.3"
  }
 },
 "nbformat": 4,
 "nbformat_minor": 4
}
